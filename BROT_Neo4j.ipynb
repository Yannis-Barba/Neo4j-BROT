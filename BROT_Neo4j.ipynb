{
 "cells": [
  {
   "cell_type": "markdown",
   "id": "5b401e36",
   "metadata": {},
   "source": [
    "# Projet Neo4j sur la base de données BROT\n",
    "\n",
    "### Contexte \n",
    "Faire une mise en contexte"
   ]
  },
  {
   "cell_type": "markdown",
   "id": "6f17703f",
   "metadata": {},
   "source": [
    "## Problématique \n",
    "A partir de ce jeu de données, les problématiques sont très nombreuses. Dans un premier temps, comme l'auteur a identifié des traits en lien avec la résillience des plantes au incendie, j'ai décidé de me concentrer sur l'étude de ces traits. "
   ]
  },
  {
   "cell_type": "markdown",
   "id": "210ccca2",
   "metadata": {},
   "source": [
    "## Adaptation aux incendies"
   ]
  },
  {
   "cell_type": "code",
   "execution_count": 15,
   "id": "840e491b",
   "metadata": {},
   "outputs": [],
   "source": [
    "from db_request import *"
   ]
  },
  {
   "cell_type": "markdown",
   "id": "9da74451",
   "metadata": {},
   "source": [
    "#### Identification des familles dont certaines espèces sont adaptées aux incendies"
   ]
  },
  {
   "cell_type": "code",
   "execution_count": 48,
   "id": "211d2566",
   "metadata": {},
   "outputs": [
    {
     "name": "stdout",
     "output_type": "stream",
     "text": [
      "Nombre de taxons : 2457\n",
      "Nombre famille : 119\n"
     ]
    }
   ],
   "source": [
    "# PENSER A REMPLACER pd.unique PAR DISTINCT avec NEO4J !!\n",
    "\n",
    "def allTaxons():\n",
    "    rq = ''' match(tx:Taxon) return tx.family as family, tx.genus as genre, tx.species as espece'''\n",
    "    return graph.run(rq).to_data_frame()\n",
    "\n",
    "allTaxons=allTaxons()\n",
    "allFamilies=pd.unique(allTaxons[\"family\"])\n",
    "\n",
    "print(f\"Nombre de taxons : {len(allTaxons)}\")\n",
    "print(f\"Nombre famille : {len(allFamilies)}\")"
   ]
  },
  {
   "cell_type": "code",
   "execution_count": 40,
   "id": "8439358c",
   "metadata": {},
   "outputs": [
    {
     "name": "stdout",
     "output_type": "stream",
     "text": [
      "Nombre de plante possédant ce trait : 24\n",
      "Nombre de familles ayant au moins une espèce dont la floraison est stimulée pour les incendies : 8\n",
      "['Asphodelaceae' 'Primulaceae' 'Asparagaceae' 'Amaryllidaceae' 'Liliaceae'\n",
      " 'Dioscoreaceae' 'Araceae' 'Iridaceae']\n"
     ]
    }
   ],
   "source": [
    "fireStimFlower = allTaxonWithTraitAndModality(\"FireStimFlower\", \"yes\")\n",
    "fireStimFlowerFamilies = pd.unique(fireStimFlower[\"famille\"])\n",
    "print(f\"Nombre de plante possédant ce trait : {len(fireStimFlower)}\")\n",
    "print(f\"Nombre de familles ayant au moins une espèce dont la floraison est stimulée pour les incendies : {len(fireStimFlowerFamilies)}\")\n",
    "print(fireStimFlowerFamilies)"
   ]
  },
  {
   "cell_type": "code",
   "execution_count": 47,
   "id": "b96f9f53",
   "metadata": {
    "scrolled": true
   },
   "outputs": [
    {
     "name": "stdout",
     "output_type": "stream",
     "text": [
      "6.722689075630252\n",
      "0.9768009768009768\n"
     ]
    }
   ],
   "source": [
    "percentageOfFireStimFlowerFamily = (len(fireStimFlowerFamilies)/len(allFamilies))*100\n",
    "print(percentageOfFireStimFlowerFamily)\n",
    "\n",
    "percentageOfFireStimFlowerTaxon = (len(fireStimFlower) / len(allTaxons)) * 100\n",
    "print(percentageOfFireStimFlowerTaxon)"
   ]
  },
  {
   "cell_type": "markdown",
   "id": "9fb1f2f2",
   "metadata": {},
   "source": [
    "Seulement 6% des familles possédent au moins une espèce ayant le trait **FireStimFlower**. \n",
    "Et moins d'1% des plantes voient leur floraison stimulée par le feu. "
   ]
  },
  {
   "cell_type": "code",
   "execution_count": null,
   "id": "fd90c942",
   "metadata": {},
   "outputs": [],
   "source": []
  },
  {
   "cell_type": "markdown",
   "id": "babaa29b",
   "metadata": {},
   "source": [
    "#### Focus sur le trait FireStimFlower"
   ]
  },
  {
   "cell_type": "markdown",
   "id": "25cb4f14",
   "metadata": {},
   "source": [
    "D'après la documentation, ce trait indique que les plantes le possédant sont capables (voire nécessitent) de fleurir après des incendies. \n",
    "Si l'on regarde un peu plus en détail la documentation, il est indiqué que ce sont les plantes géophytes qui présentent le plus ce trait. Une plante géophyte est une plante qui possède un organe permettant de \"passer la mauvaise saison\" (wikipédia), tel qu'un bulbe ou bien un rhizome. On peut donc regarder la proportion de plantes géophytes dans celle présentant le trait **FireStimFlower**. \n",
    "\n",
    "Pour ce faire, pour chaque plante présentant le trait FireStimFlower, on teste si elle possède certaine modalité du type BudSource."
   ]
  },
  {
   "cell_type": "code",
   "execution_count": 75,
   "id": "b6c3db0e",
   "metadata": {},
   "outputs": [],
   "source": [
    "def modalityOfOneTraitForOneTaxon(taxon, trait):\n",
    "    rq = '''match(tx:Taxon {taxon: $taxon})<-[:TRAIT_OF_TAXON]-(d:Data)-[:TYPE_OF_TRAIT]->(t:Trait {name: $trait}) return tx.taxon as taxon, d.data as trait'''\n",
    "    res = graph.run(rq, taxon=taxon, trait=trait).to_data_frame()\n",
    "    if(len(res) != 0):\n",
    "        return pd.unique(res[\"trait\"])\n",
    "    return []\n",
    "\n",
    "def hasOneOfThisTrait(traits, taxonTraits):\n",
    "    for t in taxonTraits:\n",
    "        if t in traits:\n",
    "            return True\n",
    "    return False"
   ]
  },
  {
   "cell_type": "code",
   "execution_count": 78,
   "id": "a2e920c9",
   "metadata": {},
   "outputs": [
    {
     "name": "stdout",
     "output_type": "stream",
     "text": [
      "Asphodelus ramosus ['storage organs']\n",
      "Cyclamen hederifolium []\n",
      "Muscari racemosum []\n",
      "Urginea maritima ['storage organs' 'rhizomes or roots']\n",
      "Narcissus triandrus []\n",
      "Narcissus dubius []\n",
      "Gagea peduncularis []\n",
      "Dioscorea communis []\n",
      "Acis nicaeensis ['storage organs']\n",
      "Ornithogalum narbonense []\n",
      "Arisarum vulgare ['storage organs']\n",
      "Gladiolus illyricus ['storage organs']\n",
      "Iris lutescens ['rhizomes']\n",
      "Lapiedra martinezii ['storage organs']\n",
      "Gladiolus illyricus ['storage organs']\n",
      "Romulea tempskyana []\n",
      "Ornithogalum sphaerocarpum []\n",
      "Allium hirtovaginatum []\n",
      "Allium sandrasicum []\n",
      "Allium amethystinum []\n",
      "Gagea graeca ['storage organs']\n",
      "Leopoldia comosa ['storage organs']\n",
      "Asparagus stipularis []\n",
      "Allium stamineum []\n"
     ]
    }
   ],
   "source": [
    "for el in fireStimFlower[\"taxon\"]:\n",
    "    print(el, modalityOfOneTraitForOneTaxon(el, \"BudSource\"))"
   ]
  },
  {
   "cell_type": "markdown",
   "id": "6bd54928",
   "metadata": {},
   "source": [
    "Le trait **BudSource** renseigne \"l'origine\" des bourgeons (bud). \n",
    "On peut déjà constater que pour les plantes dont la floraison est stimulée par le feu et pour lesquelles on a l'information concernant le trait **BudSource**, seuls les organes de stockages (bulbes) et les rhizomes sont recensés. \n",
    "\n",
    "Ces plantes sont donc pour la plupart des géophytes. "
   ]
  },
  {
   "cell_type": "markdown",
   "id": "3232ab30",
   "metadata": {},
   "source": [
    "Nous pouvons aller plus loin dans l'étude de ces plantes présentant le trait **FireStimFlower** en regardant quel trait ils possèdent tous et voir s'il y a d'autres similarités. "
   ]
  }
 ],
 "metadata": {
  "kernelspec": {
   "display_name": "Python 3 (ipykernel)",
   "language": "python",
   "name": "python3"
  },
  "language_info": {
   "codemirror_mode": {
    "name": "ipython",
    "version": 3
   },
   "file_extension": ".py",
   "mimetype": "text/x-python",
   "name": "python",
   "nbconvert_exporter": "python",
   "pygments_lexer": "ipython3",
   "version": "3.9.12"
  }
 },
 "nbformat": 4,
 "nbformat_minor": 5
}
