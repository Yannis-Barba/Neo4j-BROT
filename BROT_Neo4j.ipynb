{
 "cells": [
  {
   "cell_type": "markdown",
   "id": "5b401e36",
   "metadata": {},
   "source": [
    "# Projet Neo4j sur la base de données BROT\n",
    "Yannis BARBA\n",
    "\n",
    "### Contexte \n",
    "\n",
    "Pour ce projet visant à travailler avec une base de données sous forme de graphe avec neo4j, j'ai souhaité mettre à profit cette technologie dans le domaine de l'écologie (étude des populations et des écosystèmes). \n",
    "\n",
    "Au cours de mes recherches, j'ai découvert une base de données recensant un grand nombre d'espèce méditérranénnes ainsi que leur traits. Les traits étant des charactéristiques phénotypiques, génétiques ou morphologiques d'un organisme (ref). Les auteurs de cette base de données sont Çağatay Tavşanoğlu & Juli G. Pausas. Ils ont référencé 2457 taxons méditérranéens et un total de 44 traits, pour obtenir au final 25 764 individus, un individu étant la mesure d'un trait pour un taxon donné (tous les traits ne sont pas recensés pour chaque taxons). \n",
    "\n",
    "Cette base de données a été constituée de plusieurs manières notamment grâce à des références bibliographiques et des observations expérimentales. Ainsi, pour chaque paire taxon-trait observé, donc pour chaque ligne, il y a également une source bibliographique. \n",
    "\n",
    "La base de données est composée en 4 fichiers csv : \n",
    "\n",
    "- BROT2_dat.csv (toutes les paires taxon-trait observé)\n",
    "- BROT2_sou.csv (toutes les sources)\n",
    "- BROT2_tax.csv (toutes les informations supplémentaires sur les taxons)\n",
    "- BROT2_syn.csv (tous les synonymes des taxons)\n",
    "\n",
    "J'ai également décidé de créer un fichier **traits.csv**, permettant d'avoir le nom complet d'un trait et des explications le concernant. Ces informations sont disponibles dans l'article sur lequel j'ai basé mon projet (ref). J'ai décidé de créer ce fichier afin d'avoir l'information directement dans le résultat de mes requêtes et ne pas avoir à me référer systématiquement à l'article pour analyser mes résultats.\n"
   ]
  },
  {
   "cell_type": "markdown",
   "id": "6f17703f",
   "metadata": {},
   "source": [
    "## Problématique \n",
    "A partir de ce jeu de données, les problématiques possibles sont très nombreuses. D'après l'article ce type de base de données (sur les traits) est très prometteur pour les biologistes afin de comprendre la répartition de populations et la formation d'écosystèmes. \n",
    "\n",
    "Une base de donnée sous forme de graphe semble tout à fait adaptée, puisqu'elle permet de visualiser assez aisément les appartenances des taxons aux différentes familles, les taxons possédant tel ou tel trait etc. Par ailleurs au cours de mes recherhces, j'ai pu constater que les bases de données de traits étaient souvent sous forme de graphe. \n",
    "\n",
    "Les sujets de réflexions étant vastes, j'ai décidé de me concentrer sur certaines questions que je me suis posé au premier abord en lisant l'article.\n",
    "\n",
    "Dans un premier temps, comme l'auteur a identifié des traits en lien avec la résillience des plantes au incendie, j'ai décidé de me concentrer sur l'étude de ces traits. En effet, la présence du feu en méditérranée a eu un impact sur le développement des populations y compris végétales. Certaines espèces ont développé des traits traduisant une adaptation à cette pression environnementale particulière. \n",
    "\n",
    "Je me suis donc demandé si l'on pouvait identifier un pattern de plantes adpatées à la présence du feu en méditérranée. Comme nous allons le voir par la suite, certains traits sont des mesures directes de l'adaptation aux incendies. Mais je voulais savoir si parmis les plantes qui possèdent ces traits, nous pouvions mettre en évidence d'autres traits qui ne serait pas directement associés à l'adaptation au feu."
   ]
  },
  {
   "cell_type": "markdown",
   "id": "bac98ec2",
   "metadata": {},
   "source": [
    "##### Connexion à la base de données"
   ]
  },
  {
   "cell_type": "code",
   "execution_count": 6,
   "id": "7cf63188",
   "metadata": {},
   "outputs": [],
   "source": [
    "from py2neo import *\n",
    "import pandas as pd\n",
    "from pandas import DataFrame\n",
    "graph = Graph(\"bolt://localhost:7687\", auth=(\"neo4j\", \"root\"))"
   ]
  },
  {
   "cell_type": "markdown",
   "id": "210ccca2",
   "metadata": {},
   "source": [
    "## Adaptation aux incendies\n",
    "\n",
    "Afin de répondre à la première probématique posée, il nous faut définir ce que sont les taxons présentants des adaptations aux incendies. A partir de la description des traits dans l'article, j'ai pu définir un ensemble de trait définissant une adaptation aux incendies, la modalité choisie est indiquée en ().\n",
    "\n",
    "- Fire-stimulated ﬂowering **FireStimFlower** (yes)\n",
    "- Resprouting capacity after ﬁre **RespFire** (high)\n",
    "- Chemical germination cues **ChemCues** (stimulation)\n",
    "- Heat-stimulated germination **HeatStimGerm** (high|LMH)\n",
    "- Post-ﬁre seedling emergence **SeedlEmerg** (high)\n",
    "- Post-ﬁre seedling survival **SeedlSurv** (high)\n",
    "\n",
    "Afin de connaître la description de chacun des traits choisis, nous pouvons interoger la base de données avec une première requête simple. "
   ]
  },
  {
   "cell_type": "code",
   "execution_count": 7,
   "id": "7cda8869",
   "metadata": {},
   "outputs": [
    {
     "name": "stdout",
     "output_type": "stream",
     "text": [
      "######################\n",
      "Trait : FireStimFlower \n",
      " Fire-stimulated ï¬owering in post-ï¬re resprouters. \n",
      " \n",
      "\n",
      "######################\n",
      "Trait : RespFire \n",
      " Resprouting capacity after one year when most of the plant has been scorched (average proportion of\n",
      "adult plants that resprout as percentage). Not reported for annual plants (which can be assumed to be\n",
      "RespFire = no). \n",
      " \n",
      "\n",
      "######################\n",
      "Trait : ChemCues \n",
      " Germinative response to smoke (smk), ash (ash), charcoal (cha), nitrogenous compounds like KNO 3\n",
      "(NC1), NaNO 2 (NC2), NH 4 Cl (NC3), NH 4 HOC 3 (NC4), NH 4 NO 3 (NC5), or response to karrikins\n",
      "(KAR), cyanohydrins (CYN, including several cyanides, mandelonitrile, and glyceronitrile). The response\n",
      "in indicated before the vertical bar, and the chemical cue tested, after the vertical bar (e.g. stimulation|\n",
      "Smk). \n",
      " \n",
      "\n",
      "######################\n",
      "Trait : HeatStimGerm \n",
      " The highest intensity in heat treatments (i.e., seed exposition to dry heat > = 50 Â°C) that produce higher\n",
      "germination than the control (i.e., stimulated germination). Heat intensity deï¬ned as: Low (L: o100 Â°C\n",
      "during o = 5 min.), Moderate (M:o100 Â°C during >5 min. or > = 100 Â°C during o = 5 min.), High\n",
      "(H: > = 100 Â°C during >5 min.) or unknown (unk). Note that in many cases, post-treatment seed viability\n",
      "is not considered or not speciï¬ed. The heat intensities tested for each experiment are indicated after\n",
      "the vertical bar (category|LMH), with an underscore when the corresponding heat intensity is not tested\n",
      "(e.g., category|L_H). \n",
      " \n",
      "\n",
      "######################\n",
      "Trait : SeedlEmerg \n",
      " Average density of seedlings per pre-ï¬re mature individuals emerged during the ï¬rst year after ï¬re. This\n",
      "is a ratio (number of seedlings / number of mature plants) \n",
      " \n",
      "\n",
      "######################\n",
      "Trait : SeedlSurv \n",
      " Proportion of seedlings surviving the ï¬rst dry season after ï¬re (%). \n",
      " \n",
      "\n"
     ]
    }
   ],
   "source": [
    "fireTraits = [\"FireStimFlower\", \"RespFire\", \"ChemCues\", \"HeatStimGerm\", \"SeedlEmerg\", \"SeedlSurv\"]\n",
    "\n",
    "for trait in fireTraits:\n",
    "    rq = '''match(t:Trait {name : $trait}) return t.name as name, t.explanation as explanation'''\n",
    "    res = graph.run(rq, trait=trait).to_data_frame()\n",
    "    print(\"######################\")\n",
    "    print(f\"Trait : {res['name'][0]} \\n {res['explanation'][0]} \\n \\n\")\n",
    "    \n",
    "    "
   ]
  },
  {
   "cell_type": "markdown",
   "id": "17a9adaf",
   "metadata": {},
   "source": [
    "Pour des fonctions réutilisées régulièrement, j'ai décidé de créer un fichier db_request"
   ]
  },
  {
   "cell_type": "code",
   "execution_count": 8,
   "id": "840e491b",
   "metadata": {},
   "outputs": [],
   "source": [
    "from db_request import *"
   ]
  },
  {
   "cell_type": "code",
   "execution_count": 9,
   "id": "35067231",
   "metadata": {},
   "outputs": [
    {
     "name": "stdout",
     "output_type": "stream",
     "text": [
      "Nombre de taxons : 2457\n",
      "Nombre famille : 119\n"
     ]
    }
   ],
   "source": [
    "# PENSER A REMPLACER pd.unique PAR DISTINCT avec NEO4J !!\n",
    "\n",
    "def allTaxons():\n",
    "    rq = ''' match(tx:Taxon) return tx.family as family, tx.genus as genre, tx.species as espece'''\n",
    "    return graph.run(rq).to_data_frame()\n",
    "\n",
    "allTaxons=allTaxons()\n",
    "allFamilies=pd.unique(allTaxons[\"family\"])\n",
    "\n",
    "print(f\"Nombre de taxons : {len(allTaxons)}\")\n",
    "print(f\"Nombre famille : {len(allFamilies)}\")"
   ]
  },
  {
   "cell_type": "markdown",
   "id": "9da74451",
   "metadata": {},
   "source": [
    "### Identification des familles dont certaines espèces sont adaptées aux incendies"
   ]
  },
  {
   "cell_type": "markdown",
   "id": "6bf38091",
   "metadata": {},
   "source": [
    "Regardons dans un premier temps tous les taxons ayant au moins une modalité d'un des traits identifié précédemment. C'est à dire les taxons présentant au moins une adaptation au feu.\n",
    "\n",
    "la modalité *stimulation|smk* pour le trait **ChemCues**, signifie que le taxon voit sa germination stimulée par la fumée."
   ]
  },
  {
   "cell_type": "code",
   "execution_count": 24,
   "id": "15b27021",
   "metadata": {},
   "outputs": [
    {
     "name": "stdout",
     "output_type": "stream",
     "text": [
      "                     taxon           trait  data\n",
      "0       Asphodelus ramosus  FireStimFlower   yes\n",
      "1    Cyclamen hederifolium  FireStimFlower   yes\n",
      "2        Muscari racemosum  FireStimFlower   yes\n",
      "3         Urginea maritima  FireStimFlower   yes\n",
      "4      Narcissus triandrus  FireStimFlower   yes\n",
      "..                     ...             ...   ...\n",
      "382    Euphorbia characias       SeedlSurv  high\n",
      "383   Genista acanthoclada       SeedlSurv  high\n",
      "384        Fumana laevipes       SeedlSurv  high\n",
      "385     Micromeria juliana       SeedlSurv  high\n",
      "386    Trifolium campestre       SeedlSurv  high\n",
      "\n",
      "[387 rows x 3 columns]\n",
      "387 taxons présentent au moins une adaptation au feu\n",
      "soit 15.75% des taxons\n"
     ]
    }
   ],
   "source": [
    "fireTraits = {\n",
    "    \"FireStimFlower\": \"yes\",\n",
    "    \"RespFire\": \"high\",\n",
    "    \"ChemCues\" : \"stimulation|smk\",\n",
    "    \"HeatStimGerm\" : \"high|LMH\",\n",
    "    \"SeedlEmerg\" : \"high\",\n",
    "    \"SeedlSurv\" : \"high\"\n",
    "}\n",
    "\n",
    "def allTaxonAdaptedTo(fireTraits):\n",
    "    rq = \"\"\n",
    "    maxUnion = 0\n",
    "    for key, value in fireTraits.items():\n",
    "        rq += f\"match(tx:Taxon)<-[:TRAIT_OF_TAXON]-(d:Data {{data: '{value}'}})-[:TYPE_OF_TRAIT]->(t:Trait {{name: '{key}'}}) return tx.taxon as taxon, t.name as trait, d.data as data\"\n",
    "        if(maxUnion < len(fireTraits)-1):\n",
    "            rq += \" UNION \"\n",
    "            maxUnion+=1\n",
    "    return graph.run(rq).to_data_frame()\n",
    "\n",
    "allTaxonAdaptedToFire = allTaxonAdaptedTo(fireTraits)\n",
    "print(allTaxonAdaptedToFire)\n",
    "print(f\"{allTaxonAdaptedToFire.shape[0]} taxons présentent au moins une adaptation au feu\")\n",
    "print(f\"soit {round((allTaxonAdaptedToFire.shape[0]/len(allTaxons))*100, 2)}% des taxons\")"
   ]
  },
  {
   "cell_type": "markdown",
   "id": "5a56a624",
   "metadata": {},
   "source": [
    "N'ayant pas de connaissance préalable sur le sujet (les adaptations des plantes au feu), j'ai décidé d'aborder dans un premier temps une approche dite \"naïve\", c'est à dire que j'étudie dans un premier temps les différents trait identifés précédemment. "
   ]
  },
  {
   "cell_type": "markdown",
   "id": "f5cbd0a6",
   "metadata": {},
   "source": [
    "#### Focus sur tous les traits lié aux incendies\n",
    "\n",
    "Nous pouvons maintenant regarder pour l'ensemble des traits identifiés comme étant une adadaptation au feu, lequel est le plus représenté. \n"
   ]
  },
  {
   "cell_type": "code",
   "execution_count": 20,
   "id": "dc9edfc2",
   "metadata": {
    "scrolled": true
   },
   "outputs": [
    {
     "name": "stdout",
     "output_type": "stream",
     "text": [
      "###########\n",
      "6.2% des taxons présentant une adaptation au feu ont la modalité yes pour le trait FireStimFlower\n",
      "###########\n",
      "30.75% des taxons présentant une adaptation au feu ont la modalité high pour le trait RespFire\n",
      "###########\n",
      "22.22% des taxons présentant une adaptation au feu ont la modalité stimulation|smk pour le trait ChemCues\n",
      "###########\n",
      "15.5% des taxons présentant une adaptation au feu ont la modalité high|LMH pour le trait HeatStimGerm\n",
      "###########\n",
      "47.29% des taxons présentant une adaptation au feu ont la modalité high pour le trait SeedlEmerg\n",
      "###########\n",
      "10.59% des taxons présentant une adaptation au feu ont la modalité high pour le trait SeedlSurv\n"
     ]
    }
   ],
   "source": [
    "for trait, modality in fireTraits.items():\n",
    "    taxonWithTraitAndMod = allTaxonWithTraitAndModality(trait, modality)\n",
    "    nbreTaxon = len(taxonWithTraitAndMod)\n",
    "    perc = round((nbreTaxon/allTaxonAdaptedToFire.shape[0])*100, 2)\n",
    "    print(\"###########\")\n",
    "    print(f\"{perc}% des taxons présentant une adaptation au feu ont la modalité {modality} pour le trait {trait}\")"
   ]
  },
  {
   "cell_type": "markdown",
   "id": "e2294d31",
   "metadata": {},
   "source": [
    "#### Focus sur le trait SeedEmerg\n",
    "\n",
    "C'est le trait **SeedEmerg** qui est le trait le plus représenté parmi les taxons possédant au moins un trait d'adaptation au feu. C'est pourquoi j'ai décidé de me concentrer d'abord sur ce trait. \n",
    "\n",
    "Dans un premier temps, déterminons si les taxons possédant ce trait possédent également d'autres traits d'adaptation au feu. "
   ]
  },
  {
   "cell_type": "code",
   "execution_count": 72,
   "id": "503b5de2",
   "metadata": {},
   "outputs": [],
   "source": [
    "colname = [key for key, value in fireTraits.items()]\n",
    "\n",
    "seedEmergTaxon = allTaxonWithTraitAndModality(\"SeedlEmerg\", \"high\")\n",
    "\n",
    "seedEmergTaxonWithTraits = pd.DataFrame(columns=colname)\n",
    "\n",
    "def ContingenceMatrixToCompare(baseTrait, baseModality, traitsAndModality):\n",
    "    \"\"\"Cette fonction retourne une matrice de contingence permettant de déterminer si des taxons possédant \n",
    "    un trait et une modalité donnée possède d'autres traits et modalités\"\"\"\n",
    "    \n",
    "    colname = [key for key, value in traitsAndModality.items()]\n",
    "    \n",
    "    taxonFromBaseTrait = allTaxonWithTraitAndModality(baseTrait, baseModality)\n",
    "    \n",
    "    matrix = pd.DataFrame(columns=colname)\n",
    "\n",
    "    for tax in taxonFromBaseTrait[\"taxon\"]:\n",
    "        mod = {key:0 for key,value in traitsAndModality.items()}\n",
    "        rq = '''match(tx:Taxon {taxon: $tax})<-[:TRAIT_OF_TAXON]-(d:Data)-[:TYPE_OF_TRAIT]->(t:Trait) return t.name as trait, d.data as modality'''\n",
    "        allTraits = graph.run(rq, tax=tax).to_data_frame()\n",
    "        for trait in colname: \n",
    "            if allTraits[\"trait\"].isin([trait]).any():         \n",
    "                if allTraits[\"modality\"][allTraits[\"trait\"][allTraits[\"trait\"] == trait].index[0]]:\n",
    "                    mod[trait] = 1\n",
    "\n",
    "        matrix.loc[tax] = [value for key, value in mod.items()]\n",
    "\n",
    "    return matrix\n",
    "\n",
    "seedlEmergContingenceMatrix = ContingenceMatrixToCompare(\"SeedlEmerg\", \"high\", fireTraits)\n",
    "\n"
   ]
  },
  {
   "cell_type": "code",
   "execution_count": 90,
   "id": "8ac5a9bc",
   "metadata": {
    "scrolled": true
   },
   "outputs": [
    {
     "name": "stdout",
     "output_type": "stream",
     "text": [
      "FireStimFlower      0.00\n",
      "RespFire           85.00\n",
      "ChemCues           42.86\n",
      "HeatStimGerm       34.29\n",
      "SeedlEmerg        100.00\n",
      "SeedlSurv          25.00\n",
      "dtype: float64\n"
     ]
    },
    {
     "data": {
      "text/plain": [
       "<AxesSubplot:>"
      ]
     },
     "execution_count": 90,
     "metadata": {},
     "output_type": "execute_result"
    },
    {
     "data": {
      "image/png": "[encoded data removed]",
      "text/plain": [
       "<Figure size 640x480 with 1 Axes>"
      ]
     },
     "metadata": {},
     "output_type": "display_data"
    }
   ],
   "source": [
    "seedlEmergRatio = round((seedlEmergContingenceMatrix.sum(axis=\"rows\")/seedlEmergContingenceMatrix.shape[0])*100,2)\n",
    "print(seedlEmergRatio)\n",
    "#seedlEmergRatio.plot(kind=\"bar\")"
   ]
  },
  {
   "cell_type": "markdown",
   "id": "b00ac98d",
   "metadata": {},
   "source": [
    "D'après le graphe ci-dessus, nous pouvons dire que les taxons possédant le trait **SeedlEmerg**, c'est à dire une forte densité d'individu mature un an après un incendie: \n",
    "\n",
    "- 85% d'entre eux ont la modalité *\"high\"* pour le trait **RespFire** qui correspond à la capacité de repousse 1 an après un incendie. Cela semble cohérent, car s'il y a une forte densité de population, c'est bien que les individus ont une forte capacité à la repousse. \n",
    "\n",
    "- 42% d'entre eux ont la modalité *\"stimulation|smk\"* pour le trait **ChemCues**, ce qui veut dire que leur germination est stimulée par le feu, ce qui encore une fois est plutôt logique, mais nous pourrions également regarder quelles sont les modalités pour ce trait afin d'apporter plus de finesse dans l'analyse. \n",
    "\n",
    "- 34 % d'entre eux ont la modalité *\"high|LMH\"*, pour le trait **HeatStimGerm** c'est à dire que la germination est stimulée lors d'une chaleur très importante, c'est à dire supérieure à 100°C pendant plus de 5min. (Attention, dans le cadre de ce projet, j'ai choisi de me concentrer sur une seule modalité par soucis de simplification pour ce trait, mais comme nous pouvons le constater, les modalités sont plus nombreuses, les résultats sont donc à prendre avec des pincettes). \n",
    "\n",
    "- 25% ont la modalité *\"high\"* pour le trait **SeedlSurv**, trait qui correspond à la proportion de graines ayant survécus la première saison sèche après l'incendie. \n",
    "\n",
    "- 0 % d'entre eux n'ont la modalité *\"yes\"* pour le trait **FireStimFlower**, soit ce trait n'a pas été renseigné pour ces espèces, soit, un taxon à une adaptation au feu au niveau de la germination OU au niveau de la floraison mais pas pour les deux en même temps."
   ]
  },
  {
   "cell_type": "markdown",
   "id": "2b1a7f29",
   "metadata": {},
   "source": []
  },
  {
   "cell_type": "markdown",
   "id": "7826079d",
   "metadata": {},
   "source": [
    "#### Focus sur le trait FireStimFlower"
   ]
  },
  {
   "cell_type": "code",
   "execution_count": 11,
   "id": "8439358c",
   "metadata": {},
   "outputs": [
    {
     "name": "stdout",
     "output_type": "stream",
     "text": [
      "Nombre de plante possédant ce trait : 24\n",
      "Nombre de familles ayant au moins une espèce dont la floraison est stimulée pour les incendies : 8\n",
      "['Asphodelaceae' 'Primulaceae' 'Asparagaceae' 'Amaryllidaceae' 'Liliaceae'\n",
      " 'Dioscoreaceae' 'Araceae' 'Iridaceae']\n"
     ]
    }
   ],
   "source": [
    "fireStimFlower = allTaxonWithTraitAndModality(\"FireStimFlower\", \"yes\")\n",
    "fireStimFlowerFamilies = pd.unique(fireStimFlower[\"famille\"])\n",
    "print(f\"Nombre de plante possédant ce trait : {len(fireStimFlower)}\")\n",
    "print(f\"Nombre de familles ayant au moins une espèce dont la floraison est stimulée pour les incendies : {len(fireStimFlowerFamilies)}\")\n",
    "print(fireStimFlowerFamilies)"
   ]
  },
  {
   "cell_type": "code",
   "execution_count": 12,
   "id": "11ab2317",
   "metadata": {
    "scrolled": true
   },
   "outputs": [
    {
     "name": "stdout",
     "output_type": "stream",
     "text": [
      "6.72% des familles possèdent au moins une espèce ayant le trait FireStimFlower\n",
      "0.98% des taxons ont une floraison stimulée par le feu\n",
      "7.48% des taxons ayant au moins une adapatation au feu ont une floraison stimulée par le feu\n"
     ]
    }
   ],
   "source": [
    "percentageOfFireStimFlowerFamily = round((len(fireStimFlowerFamilies)/len(allFamilies))*100, 2)\n",
    "print(f\"{percentageOfFireStimFlowerFamily}% des familles possèdent au moins une espèce ayant le trait FireStimFlower\")\n",
    "\n",
    "percentageOfFireStimFlowerTaxon = round((len(fireStimFlower) / len(allTaxons)) * 100, 2)\n",
    "print(f\"{percentageOfFireStimFlowerTaxon}% des taxons ont une floraison stimulée par le feu\")\n",
    "\n",
    "print(f\"{round((len(fireStimFlower) / allTaxonAdaptedToFire.shape[0]) * 100, 2)}% des taxons ayant au moins une adapatation au feu ont une floraison stimulée par le feu\")"
   ]
  },
  {
   "cell_type": "markdown",
   "id": "f6720e4f",
   "metadata": {},
   "source": [
    "Seulement 6% des familles possédent au moins une espèce ayant le trait **FireStimFlower**. \n",
    "Et moins d'1% des plantes voient leur floraison stimulée par le feu. "
   ]
  },
  {
   "cell_type": "markdown",
   "id": "c5af12ab",
   "metadata": {},
   "source": [
    "D'après la documentation, ce trait indique que les plantes le possédant sont capables (voire nécessitent) de fleurir après des incendies. \n",
    "Si l'on regarde un peu plus en détail la documentation, il est indiqué que ce sont les plantes géophytes qui présentent le plus ce trait. Une plante géophyte est une plante qui possède un organe permettant de \"passer la mauvaise saison\" (wikipédia), tel qu'un bulbe ou bien un rhizome. On peut donc regarder la proportion de plantes géophytes dans celle présentant le trait **FireStimFlower**. \n",
    "\n",
    "Il existe un trait : **GrowthForm** renseignant les plantes géophytes ou non. \n",
    "\n"
   ]
  },
  {
   "cell_type": "code",
   "execution_count": 13,
   "id": "fa2ea697",
   "metadata": {},
   "outputs": [],
   "source": [
    "def modalityOfOneTraitForOneTaxon(taxon, trait):\n",
    "    rq = '''match(tx:Taxon {taxon: $taxon})<-[:TRAIT_OF_TAXON]-(d:Data)-[:TYPE_OF_TRAIT]->(t:Trait {name: $trait}) return tx.taxon as taxon, d.data as trait'''\n",
    "    res = graph.run(rq, taxon=taxon, trait=trait).to_data_frame()\n",
    "    if(len(res) != 0):\n",
    "        return pd.unique(res[\"trait\"])\n",
    "    return []\n",
    "\n",
    "def hasOneOfThisTrait(traits, taxonTraits):\n",
    "    for t in taxonTraits:\n",
    "        if t in traits:\n",
    "            return True\n",
    "    return False"
   ]
  },
  {
   "cell_type": "code",
   "execution_count": 14,
   "id": "16d5cd28",
   "metadata": {},
   "outputs": [
    {
     "name": "stdout",
     "output_type": "stream",
     "text": [
      "Asphodelus ramosus ['geophyte']\n",
      "Cyclamen hederifolium ['geophyte']\n",
      "Muscari racemosum ['geophyte']\n",
      "Urginea maritima ['geophyte']\n",
      "Narcissus triandrus ['geophyte']\n",
      "Narcissus dubius ['geophyte']\n",
      "Gagea peduncularis ['geophyte']\n",
      "Dioscorea communis ['geophyte']\n",
      "Acis nicaeensis ['geophyte']\n",
      "Ornithogalum narbonense ['geophyte']\n",
      "Arisarum vulgare ['geophyte']\n",
      "Gladiolus illyricus ['geophyte']\n",
      "Iris lutescens ['geophyte']\n",
      "Lapiedra martinezii ['geophyte']\n",
      "Gladiolus illyricus ['geophyte']\n",
      "Romulea tempskyana ['geophyte']\n",
      "Ornithogalum sphaerocarpum ['geophyte']\n",
      "Allium hirtovaginatum ['geophyte']\n",
      "Allium sandrasicum ['geophyte']\n",
      "Allium amethystinum ['geophyte']\n",
      "Gagea graeca ['geophyte']\n",
      "Leopoldia comosa ['geophyte']\n",
      "Asparagus stipularis ['liana']\n",
      "Allium stamineum ['geophyte']\n"
     ]
    }
   ],
   "source": [
    "for el in fireStimFlower[\"taxon\"]:\n",
    "    print(el, modalityOfOneTraitForOneTaxon(el, \"GrowthForm\"))"
   ]
  },
  {
   "cell_type": "markdown",
   "id": "8836b271",
   "metadata": {},
   "source": [
    "Nous pouvons constater qu'a l'exception du taxon \"Asparagus stipularis\", tous les taxons avec le trait **FireStimFlower** sont en fait des géophytes. \n",
    "\n",
    "Nous pouvons regarder combien de plantes sont géophytes dans notre base de données avec de savoir si le fait d'être géophyte suffit pour voir sa floraison stimulé par le feu ou bien s'il faut prendre en compte d'autre caractéres."
   ]
  },
  {
   "cell_type": "code",
   "execution_count": 15,
   "id": "0168b67f",
   "metadata": {},
   "outputs": [
    {
     "name": "stdout",
     "output_type": "stream",
     "text": [
      "13 % des geophytes possédent le trait FireStimFlower\n"
     ]
    }
   ],
   "source": [
    "allGeophytes = allTaxonWithTraitAndModality(\"GrowthForm\", \"geophyte\")\n",
    "print(f\"{round((len(fireStimFlower) / len(allGeophytes))*100)} % des geophytes possédent le trait FireStimFlower\")"
   ]
  },
  {
   "cell_type": "markdown",
   "id": "067e9369",
   "metadata": {},
   "source": [
    "D'après le résultat précédent, nous pouvons constater que le fait d'être géophyte n'est pas suffisant pour avoir une floraison stimulée par le feu. \n",
    "\n",
    "Ce trait ne semble pas être discriminant"
   ]
  }
 ],
 "metadata": {
  "kernelspec": {
   "display_name": "Python 3 (ipykernel)",
   "language": "python",
   "name": "python3"
  },
  "language_info": {
   "codemirror_mode": {
    "name": "ipython",
    "version": 3
   },
   "file_extension": ".py",
   "mimetype": "text/x-python",
   "name": "python",
   "nbconvert_exporter": "python",
   "pygments_lexer": "ipython3",
   "version": "3.9.12"
  }
 },
 "nbformat": 4,
 "nbformat_minor": 5
}
