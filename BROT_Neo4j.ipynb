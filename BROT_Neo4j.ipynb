{
 "cells": [
  {
   "cell_type": "markdown",
   "id": "5b401e36",
   "metadata": {},
   "source": [
    "# Projet Neo4j sur la base de données BROT\n",
    "\n",
    "### Contexte \n",
    "Faire une mise en contexte"
   ]
  },
  {
   "cell_type": "markdown",
   "id": "6f17703f",
   "metadata": {},
   "source": [
    "## Problématique \n",
    "A partir de ce jeu de données, les problématiques sont très nombreuses. Dans un premier temps, comme l'auteur a identifié des traits en lien avec la résillience des plantes au incendie, j'ai décidé de me concentrer sur l'étude de ces traits. "
   ]
  },
  {
   "cell_type": "markdown",
   "id": "210ccca2",
   "metadata": {},
   "source": [
    "## Adaptation aux incendies"
   ]
  },
  {
   "cell_type": "code",
   "execution_count": 15,
   "id": "840e491b",
   "metadata": {},
   "outputs": [],
   "source": [
    "from db_request import *"
   ]
  },
  {
   "cell_type": "markdown",
   "id": "9da74451",
   "metadata": {},
   "source": [
    "#### Identification des familles dont certaines espèces sont adaptées aux incendies"
   ]
  },
  {
   "cell_type": "code",
   "execution_count": 48,
   "id": "211d2566",
   "metadata": {},
   "outputs": [
    {
     "name": "stdout",
     "output_type": "stream",
     "text": [
      "Nombre de taxons : 2457\n",
      "Nombre famille : 119\n"
     ]
    }
   ],
   "source": [
    "# PENSER A REMPLACER pd.unique PAR DISTINCT avec NEO4J !!\n",
    "\n",
    "def allTaxons():\n",
    "    rq = ''' match(tx:Taxon) return tx.family as family, tx.genus as genre, tx.species as espece'''\n",
    "    return graph.run(rq).to_data_frame()\n",
    "\n",
    "allTaxons=allTaxons()\n",
    "allFamilies=pd.unique(allTaxons[\"family\"])\n",
    "\n",
    "print(f\"Nombre de taxons : {len(allTaxons)}\")\n",
    "print(f\"Nombre famille : {len(allFamilies)}\")"
   ]
  },
  {
   "cell_type": "code",
   "execution_count": 40,
   "id": "8439358c",
   "metadata": {},
   "outputs": [
    {
     "name": "stdout",
     "output_type": "stream",
     "text": [
      "Nombre de plante possédant ce trait : 24\n",
      "Nombre de familles ayant au moins une espèce dont la floraison est stimulée pour les incendies : 8\n",
      "['Asphodelaceae' 'Primulaceae' 'Asparagaceae' 'Amaryllidaceae' 'Liliaceae'\n",
      " 'Dioscoreaceae' 'Araceae' 'Iridaceae']\n"
     ]
    }
   ],
   "source": [
    "fireStimFlower = allTaxonWithTraitAndModality(\"FireStimFlower\", \"yes\")\n",
    "fireStimFlowerFamilies = pd.unique(fireStimFlower[\"famille\"])\n",
    "print(f\"Nombre de plante possédant ce trait : {len(fireStimFlower)}\")\n",
    "print(f\"Nombre de familles ayant au moins une espèce dont la floraison est stimulée pour les incendies : {len(fireStimFlowerFamilies)}\")\n",
    "print(fireStimFlowerFamilies)"
   ]
  },
  {
   "cell_type": "code",
   "execution_count": 47,
   "id": "ca073249",
   "metadata": {
    "scrolled": true
   },
   "outputs": [
    {
     "name": "stdout",
     "output_type": "stream",
     "text": [
      "6.722689075630252\n",
      "0.9768009768009768\n"
     ]
    }
   ],
   "source": [
    "percentageOfFireStimFlowerFamily = (len(fireStimFlowerFamilies)/len(allFamilies))*100\n",
    "print(percentageOfFireStimFlowerFamily)\n",
    "\n",
    "percentageOfFireStimFlowerTaxon = (len(fireStimFlower) / len(allTaxons)) * 100\n",
    "print(percentageOfFireStimFlowerTaxon)"
   ]
  },
  {
   "cell_type": "markdown",
   "id": "4ce465e3",
   "metadata": {},
   "source": [
    "Seulement 6% des familles possédent au moins une espèce ayant le trait **FireStimFlower**. \n",
    "Et moins d'1% des plantes voient leur floraison stimulée par le feu. "
   ]
  },
  {
   "cell_type": "code",
   "execution_count": null,
   "id": "be24df99",
   "metadata": {},
   "outputs": [],
   "source": []
  },
  {
   "cell_type": "markdown",
   "id": "ad95317f",
   "metadata": {},
   "source": [
    "#### Focus sur le trait FireStimFlower"
   ]
  },
  {
   "cell_type": "markdown",
   "id": "2210cafe",
   "metadata": {},
   "source": [
    "D'après la documentation, ce trait indique que les plantes le possédant sont capables (voire nécessitent) de fleurir après des incendies. \n",
    "Si l'on regarde un peu plus en détail la documentation, il est indiqué que ce sont les plantes géophytes qui présentent le plus ce trait. Une plante géophyte est une plante qui possède un organe permettant de \"passer la mauvaise saison\" (wikipédia), tel qu'un bulbe ou bien un rhizome. On peut donc regarder la proportion de plantes géophytes dans celle présentant le trait **FireStimFlower**. "
   ]
  },
  {
   "cell_type": "code",
   "execution_count": null,
   "id": "88a03763",
   "metadata": {},
   "outputs": [],
   "source": []
  }
 ],
 "metadata": {
  "kernelspec": {
   "display_name": "Python 3 (ipykernel)",
   "language": "python",
   "name": "python3"
  },
  "language_info": {
   "codemirror_mode": {
    "name": "ipython",
    "version": 3
   },
   "file_extension": ".py",
   "mimetype": "text/x-python",
   "name": "python",
   "nbconvert_exporter": "python",
   "pygments_lexer": "ipython3",
   "version": "3.9.12"
  }
 },
 "nbformat": 4,
 "nbformat_minor": 5
}
