{
 "cells": [
  {
   "cell_type": "markdown",
   "id": "5b401e36",
   "metadata": {},
   "source": [
    "# Projet Neo4j sur la base de données BROT\n",
    "\n",
    "### Contexte \n",
    "\n",
    "Pour ce projet visant à travailler avec une base de données sous forme de graphe avec neo4j, j'ai souhaité mettre à profit cette technologie dans le domaine de l'écologie (étude des populations et des écosystèmes). \n",
    "\n",
    "Au cours de mes recherches, j'ai découvert une base de données recensant un grand nombre d'espèce méditérranénnes ainsi que leur traits. Les traits étant des charactéristiques phénotypiques, génétiques ou morphologiques d'un organisme (ref). Les auteurs de cette base de données sont Çağatay Tavşanoğlu & Juli G. Pausas. Ils ont référencé 2457 taxons méditérranéens et un total de 44 traits, pour obtenir au final 25 764 individus, un individu étant la mesure d'un trait pour un taxon donné (tous les traits ne sont pas recensés pour chaque taxons). \n",
    "\n",
    "Cette base de données a été constituée de plusieurs manières notamment grâce à des références bibliographiques et des observations expérimentales. Ainsi, pour chaque paire taxon-trait observé, donc pour chaque ligne, il y a également une source bibliographique. \n",
    "\n",
    "La base de données est donc composée en 4 fichiers csv : \n",
    "\n",
    "- BROT2_dat.csv (toutes les paires taxon-trait observé)\n",
    "- BROT2_sou.csv (toutes les sources)\n",
    "- BROT2_tax.csv (toutes les informations supplémentaires sur les taxons)\n",
    "- BROT2_syn.csv (tous les synonymes des taxons)\n",
    "\n",
    "J'ai également décidé de créer un fichier **traits.csv**, permettant d'avoir le nom complet d'un trait et des explications le concernant. Ces informations sont disponibles dans l'article sur lequel j'ai basé mon projet (ref). J'ai décidé de créer ce fichier afin d'avoir l'information directement dans le résultat de mes requêtes et ne pas avoir à me référer systématiquement à l'article pour analyser mes résultats.\n"
   ]
  },
  {
   "cell_type": "markdown",
   "id": "6f17703f",
   "metadata": {},
   "source": [
    "## Problématique \n",
    "A partir de ce jeu de données, les problématiques possibles sont très nombreuses. D'après l'article ce type de base de données (sur les traits) est très prometteur pour les biologistes afin de comprendre la répartition de populations et la formation d'écosystèmes. Les sujets de réflexions étant vastes, j'ai décidé de me concentrer sur certaines questions que je me suis posé au premier abord en lisant l'article.\n",
    "\n",
    "Dans un premier temps, comme l'auteur a identifié des traits en lien avec la résillience des plantes au incendie, j'ai décidé de me concentrer sur l'étude de ces traits. En effet, la présence du feu en méditérranée a eu un impact sur le développement des populations y compris végétales. Certaines espèces ont développé des traits traduisant une adaptation à cette pression environnementale particulière. \n",
    "\n",
    "Je me suis donc demandé si l'on pouvait identifier un pattern de plantes adpatées à la présence du feu en méditérranée. Comme nous allons le voir par la suite, certains traits sont des mesures directes de l'adaptation aux incendies. Mais je voulais savoir si parmis les plantes qui possèdent ces traits, nous pouvions mettre en évidence d'autres traits qui ne serait pas directement associés à l'adaptation au feu."
   ]
  },
  {
   "cell_type": "markdown",
   "id": "210ccca2",
   "metadata": {},
   "source": [
    "## Adaptation aux incendies\n",
    "\n",
    "Afin de répondre à la première probématique posée, il nous faut définir ce que sont les taxons présentants des adaptations aux incendies. A partir de la description des traits dans l'article, j'ai pu définir un ensemble de trait définissant une adaptation aux incendies, la modalité choisie est indiquée en ().\n",
    "\n",
    "- Fire-stimulated ﬂowering **FireStimFlower** (yes)\n",
    "- Resprouting capacity after ﬁre **RespFire** (high)\n",
    "- Chemical germination cues **ChemCues** (stimulation)\n",
    "- Heat-stimulated germination **HeatStimGerm** (high|LMH)\n",
    "- Post-ﬁre seedling emergence **SeedlEmerg** (high)\n",
    "- Post-ﬁre seedling survival **SeedlSurv** (high)\n",
    "\n",
    "Afin de connaître la description de chacun des traits choisis, nous pouvons interoger la base de données avec une première requête simple. "
   ]
  },
  {
   "cell_type": "code",
   "execution_count": 95,
   "id": "9cb9d0b0",
   "metadata": {},
   "outputs": [
    {
     "name": "stdout",
     "output_type": "stream",
     "text": [
      "######################\n",
      "Trait : FireStimFlower \n",
      " Fire-stimulated ï¬owering in post-ï¬re resprouters. \n",
      " \n",
      "\n",
      "######################\n",
      "Trait : RespFire \n",
      " Resprouting capacity after one year when most of the plant has been scorched (average proportion of\n",
      "adult plants that resprout as percentage). Not reported for annual plants (which can be assumed to be\n",
      "RespFire = no). \n",
      " \n",
      "\n",
      "######################\n",
      "Trait : ChemCues \n",
      " Germinative response to smoke (smk), ash (ash), charcoal (cha), nitrogenous compounds like KNO 3\n",
      "(NC1), NaNO 2 (NC2), NH 4 Cl (NC3), NH 4 HOC 3 (NC4), NH 4 NO 3 (NC5), or response to karrikins\n",
      "(KAR), cyanohydrins (CYN, including several cyanides, mandelonitrile, and glyceronitrile). The response\n",
      "in indicated before the vertical bar, and the chemical cue tested, after the vertical bar (e.g. stimulation|\n",
      "Smk). \n",
      " \n",
      "\n",
      "######################\n",
      "Trait : HeatStimGerm \n",
      " The highest intensity in heat treatments (i.e., seed exposition to dry heat > = 50 Â°C) that produce higher\n",
      "germination than the control (i.e., stimulated germination). Heat intensity deï¬ned as: Low (L: o100 Â°C\n",
      "during o = 5 min.), Moderate (M:o100 Â°C during >5 min. or > = 100 Â°C during o = 5 min.), High\n",
      "(H: > = 100 Â°C during >5 min.) or unknown (unk). Note that in many cases, post-treatment seed viability\n",
      "is not considered or not speciï¬ed. The heat intensities tested for each experiment are indicated after\n",
      "the vertical bar (category|LMH), with an underscore when the corresponding heat intensity is not tested\n",
      "(e.g., category|L_H). \n",
      " \n",
      "\n",
      "######################\n",
      "Trait : SeedlEmerg \n",
      " Average density of seedlings per pre-ï¬re mature individuals emerged during the ï¬rst year after ï¬re. This\n",
      "is a ratio (number of seedlings / number of mature plants) \n",
      " \n",
      "\n",
      "######################\n",
      "Trait : SeedlSurv \n",
      " Proportion of seedlings surviving the ï¬rst dry season after ï¬re (%). \n",
      " \n",
      "\n"
     ]
    }
   ],
   "source": [
    "fireTraits = [\"FireStimFlower\", \"RespFire\", \"ChemCues\", \"HeatStimGerm\", \"SeedlEmerg\", \"SeedlSurv\"]\n",
    "\n",
    "for trait in fireTraits:\n",
    "    rq = '''match(t:Trait {name : $trait}) return t.name as name, t.explanation as explanation'''\n",
    "    res = graph.run(rq, trait=trait).to_data_frame()\n",
    "    print(\"######################\")\n",
    "    print(f\"Trait : {res['name'][0]} \\n {res['explanation'][0]} \\n \\n\")\n",
    "    \n",
    "    "
   ]
  },
  {
   "cell_type": "markdown",
   "id": "448c5ce3",
   "metadata": {},
   "source": [
    "Pour des fonctions réutilisées régulièrement, j'ai décidé de créer un fichier db_request"
   ]
  },
  {
   "cell_type": "code",
   "execution_count": 15,
   "id": "840e491b",
   "metadata": {},
   "outputs": [],
   "source": [
    "from db_request import *"
   ]
  },
  {
   "cell_type": "code",
   "execution_count": 110,
   "id": "05f8a830",
   "metadata": {},
   "outputs": [
    {
     "name": "stdout",
     "output_type": "stream",
     "text": [
      "Nombre de taxons : 2457\n",
      "Nombre famille : 119\n"
     ]
    }
   ],
   "source": [
    "# PENSER A REMPLACER pd.unique PAR DISTINCT avec NEO4J !!\n",
    "\n",
    "def allTaxons():\n",
    "    rq = ''' match(tx:Taxon) return tx.family as family, tx.genus as genre, tx.species as espece'''\n",
    "    return graph.run(rq).to_data_frame()\n",
    "\n",
    "allTaxons=allTaxons()\n",
    "allFamilies=pd.unique(allTaxons[\"family\"])\n",
    "\n",
    "print(f\"Nombre de taxons : {len(allTaxons)}\")\n",
    "print(f\"Nombre famille : {len(allFamilies)}\")"
   ]
  },
  {
   "cell_type": "markdown",
   "id": "9da74451",
   "metadata": {},
   "source": [
    "### Identification des familles dont certaines espèces sont adaptées aux incendies"
   ]
  },
  {
   "cell_type": "markdown",
   "id": "6bf38091",
   "metadata": {},
   "source": [
    "Regardons dans un premier temps tous les taxons ayant au moins une modalité d'un des traits identifié précédemment. C'est à dire les taxons présentant au moins une adaptation au feu"
   ]
  },
  {
   "cell_type": "code",
   "execution_count": 109,
   "id": "15b27021",
   "metadata": {},
   "outputs": [
    {
     "name": "stdout",
     "output_type": "stream",
     "text": [
      "321 taxons présentent au moins une adaptation au feu\n"
     ]
    }
   ],
   "source": [
    "fireTraits = {\n",
    "    \"FireStimFlower\": \"yes\",\n",
    "    \"RespFire\": \"high\",\n",
    "    \"ChemCues\" : \"stimulation\",\n",
    "    \"HeatStimGerm\" : \"high|LMH\",\n",
    "    \"SeedlEmerg\" : \"high\",\n",
    "    \"SeedlSurv\" : \"high\"\n",
    "}\n",
    "\n",
    "def allTaxonAdaptedTo(fireTraits):\n",
    "    rq = \"\"\n",
    "    maxUnion = 0\n",
    "    for key, value in fireTraits.items():\n",
    "        rq += f\"match(tx:Taxon)<-[:TRAIT_OF_TAXON]-(d:Data {{data: '{value}'}})-[:TYPE_OF_TRAIT]->(t:Trait {{name: '{key}'}}) return tx.taxon as taxon, t.name as trait, d.data as data\"\n",
    "        if(maxUnion < len(fireTraits)-1):\n",
    "            rq += \" UNION \"\n",
    "            maxUnion+=1\n",
    "    return graph.run(rq).to_data_frame()\n",
    "\n",
    "allTaxonAdaptedToFire = allTaxonAdaptedTo(fireTraits)\n",
    "#print(allTaxonAdaptedToFire)\n",
    "print(f\"{allTaxonAdaptedToFire.shape[0]} taxons présentent au moins une adaptation au feu\")\n",
    "print(f\"soit {(allTaxonAdaptedToFire.shape[0]/len(allTaxons))*100}\")"
   ]
  },
  {
   "cell_type": "markdown",
   "id": "5a56a624",
   "metadata": {},
   "source": [
    "#### Focus sur le trait FireStimFlower"
   ]
  },
  {
   "cell_type": "code",
   "execution_count": 40,
   "id": "8439358c",
   "metadata": {},
   "outputs": [
    {
     "name": "stdout",
     "output_type": "stream",
     "text": [
      "Nombre de plante possédant ce trait : 24\n",
      "Nombre de familles ayant au moins une espèce dont la floraison est stimulée pour les incendies : 8\n",
      "['Asphodelaceae' 'Primulaceae' 'Asparagaceae' 'Amaryllidaceae' 'Liliaceae'\n",
      " 'Dioscoreaceae' 'Araceae' 'Iridaceae']\n"
     ]
    }
   ],
   "source": [
    "fireStimFlower = allTaxonWithTraitAndModality(\"FireStimFlower\", \"yes\")\n",
    "fireStimFlowerFamilies = pd.unique(fireStimFlower[\"famille\"])\n",
    "print(f\"Nombre de plante possédant ce trait : {len(fireStimFlower)}\")\n",
    "print(f\"Nombre de familles ayant au moins une espèce dont la floraison est stimulée pour les incendies : {len(fireStimFlowerFamilies)}\")\n",
    "print(fireStimFlowerFamilies)"
   ]
  },
  {
   "cell_type": "code",
   "execution_count": 47,
   "id": "11ab2317",
   "metadata": {
    "scrolled": true
   },
   "outputs": [
    {
     "name": "stdout",
     "output_type": "stream",
     "text": [
      "6.722689075630252\n",
      "0.9768009768009768\n"
     ]
    }
   ],
   "source": [
    "percentageOfFireStimFlowerFamily = (len(fireStimFlowerFamilies)/len(allFamilies))*100\n",
    "print(percentageOfFireStimFlowerFamily)\n",
    "\n",
    "percentageOfFireStimFlowerTaxon = (len(fireStimFlower) / len(allTaxons)) * 100\n",
    "print(percentageOfFireStimFlowerTaxon)"
   ]
  },
  {
   "cell_type": "markdown",
   "id": "f6720e4f",
   "metadata": {},
   "source": [
    "Seulement 6% des familles possédent au moins une espèce ayant le trait **FireStimFlower**. \n",
    "Et moins d'1% des plantes voient leur floraison stimulée par le feu. "
   ]
  },
  {
   "cell_type": "markdown",
   "id": "c5af12ab",
   "metadata": {},
   "source": [
    "D'après la documentation, ce trait indique que les plantes le possédant sont capables (voire nécessitent) de fleurir après des incendies. \n",
    "Si l'on regarde un peu plus en détail la documentation, il est indiqué que ce sont les plantes géophytes qui présentent le plus ce trait. Une plante géophyte est une plante qui possède un organe permettant de \"passer la mauvaise saison\" (wikipédia), tel qu'un bulbe ou bien un rhizome. On peut donc regarder la proportion de plantes géophytes dans celle présentant le trait **FireStimFlower**. \n",
    "\n",
    "Il existe un trait : **GrowthForm** renseignant les plantes géophytes ou non. \n",
    "\n"
   ]
  },
  {
   "cell_type": "code",
   "execution_count": 75,
   "id": "fa2ea697",
   "metadata": {},
   "outputs": [],
   "source": [
    "def modalityOfOneTraitForOneTaxon(taxon, trait):\n",
    "    rq = '''match(tx:Taxon {taxon: $taxon})<-[:TRAIT_OF_TAXON]-(d:Data)-[:TYPE_OF_TRAIT]->(t:Trait {name: $trait}) return tx.taxon as taxon, d.data as trait'''\n",
    "    res = graph.run(rq, taxon=taxon, trait=trait).to_data_frame()\n",
    "    if(len(res) != 0):\n",
    "        return pd.unique(res[\"trait\"])\n",
    "    return []\n",
    "\n",
    "def hasOneOfThisTrait(traits, taxonTraits):\n",
    "    for t in taxonTraits:\n",
    "        if t in traits:\n",
    "            return True\n",
    "    return False"
   ]
  },
  {
   "cell_type": "code",
   "execution_count": 79,
   "id": "16d5cd28",
   "metadata": {},
   "outputs": [
    {
     "name": "stdout",
     "output_type": "stream",
     "text": [
      "Asphodelus ramosus ['geophyte']\n",
      "Cyclamen hederifolium ['geophyte']\n",
      "Muscari racemosum ['geophyte']\n",
      "Urginea maritima ['geophyte']\n",
      "Narcissus triandrus ['geophyte']\n",
      "Narcissus dubius ['geophyte']\n",
      "Gagea peduncularis ['geophyte']\n",
      "Dioscorea communis ['geophyte']\n",
      "Acis nicaeensis ['geophyte']\n",
      "Ornithogalum narbonense ['geophyte']\n",
      "Arisarum vulgare ['geophyte']\n",
      "Gladiolus illyricus ['geophyte']\n",
      "Iris lutescens ['geophyte']\n",
      "Lapiedra martinezii ['geophyte']\n",
      "Gladiolus illyricus ['geophyte']\n",
      "Romulea tempskyana ['geophyte']\n",
      "Ornithogalum sphaerocarpum ['geophyte']\n",
      "Allium hirtovaginatum ['geophyte']\n",
      "Allium sandrasicum ['geophyte']\n",
      "Allium amethystinum ['geophyte']\n",
      "Gagea graeca ['geophyte']\n",
      "Leopoldia comosa ['geophyte']\n",
      "Asparagus stipularis ['liana']\n",
      "Allium stamineum ['geophyte']\n"
     ]
    }
   ],
   "source": [
    "for el in fireStimFlower[\"taxon\"]:\n",
    "    print(el, modalityOfOneTraitForOneTaxon(el, \"GrowthForm\"))"
   ]
  },
  {
   "cell_type": "markdown",
   "id": "8836b271",
   "metadata": {},
   "source": [
    "Nous pouvons constater qu'a l'exception du taxon \"Asparagus stipularis\", tous les taxons avec le trait **FireStimFlower** sont en fait des géophytes. \n",
    "\n",
    "Nous pouvons regarder combien de plantes sont géophytes dans notre base de données avec de savoir si le fait d'être géophyte suffit pour voir sa floraison stimulé par le feu ou bien s'il faut prendre en compte d'autre caractéres."
   ]
  },
  {
   "cell_type": "code",
   "execution_count": 84,
   "id": "0168b67f",
   "metadata": {},
   "outputs": [
    {
     "name": "stdout",
     "output_type": "stream",
     "text": [
      "13 % des geophytes possédent le trait FireStimFlower\n"
     ]
    }
   ],
   "source": [
    "allGeophytes = allTaxonWithTraitAndModality(\"GrowthForm\", \"geophyte\")\n",
    "print(f\"{round((len(fireStimFlower) / len(allGeophytes))*100)} % des geophytes possédent le trait FireStimFlower\")"
   ]
  },
  {
   "cell_type": "markdown",
   "id": "067e9369",
   "metadata": {},
   "source": [
    "D'après le résultat précédent, nous pouvons constater que le fait d'être géophyte n'est pas suffisant pour avoir une floraison stimulée par le feu. "
   ]
  },
  {
   "cell_type": "markdown",
   "id": "7062b6a1",
   "metadata": {},
   "source": [
    "#### Focus sur tous les traits lié aux incendies\n",
    "\n"
   ]
  },
  {
   "cell_type": "markdown",
   "id": "1c6faaec",
   "metadata": {},
   "source": [
    "#### Focus sur le trait BudSource"
   ]
  },
  {
   "cell_type": "code",
   "execution_count": 78,
   "id": "13b5e385",
   "metadata": {
    "scrolled": true
   },
   "outputs": [
    {
     "name": "stdout",
     "output_type": "stream",
     "text": [
      "Asphodelus ramosus ['storage organs']\n",
      "Cyclamen hederifolium []\n",
      "Muscari racemosum []\n",
      "Urginea maritima ['storage organs' 'rhizomes or roots']\n",
      "Narcissus triandrus []\n",
      "Narcissus dubius []\n",
      "Gagea peduncularis []\n",
      "Dioscorea communis []\n",
      "Acis nicaeensis ['storage organs']\n",
      "Ornithogalum narbonense []\n",
      "Arisarum vulgare ['storage organs']\n",
      "Gladiolus illyricus ['storage organs']\n",
      "Iris lutescens ['rhizomes']\n",
      "Lapiedra martinezii ['storage organs']\n",
      "Gladiolus illyricus ['storage organs']\n",
      "Romulea tempskyana []\n",
      "Ornithogalum sphaerocarpum []\n",
      "Allium hirtovaginatum []\n",
      "Allium sandrasicum []\n",
      "Allium amethystinum []\n",
      "Gagea graeca ['storage organs']\n",
      "Leopoldia comosa ['storage organs']\n",
      "Asparagus stipularis []\n",
      "Allium stamineum []\n"
     ]
    }
   ],
   "source": [
    "for el in fireStimFlower[\"taxon\"]:\n",
    "    print(el, modalityOfOneTraitForOneTaxon(el, \"BudSource\"))"
   ]
  },
  {
   "cell_type": "markdown",
   "id": "775ff18e",
   "metadata": {},
   "source": [
    "Le trait **BudSource** renseigne \"l'origine\" des bourgeons (bud). \n",
    "On peut déjà constater que pour les plantes dont la floraison est stimulée par le feu et pour lesquelles on a l'information concernant le trait **BudSource**, seuls les organes de stockages (bulbes) et les rhizomes sont recensés. "
   ]
  },
  {
   "cell_type": "markdown",
   "id": "05a07783",
   "metadata": {},
   "source": [
    "Nous pouvons aller plus loin dans l'étude de ces plantes présentant le trait **FireStimFlower** en regardant quel trait ils possèdent tous et voir s'il y a d'autres similarités. "
   ]
  }
 ],
 "metadata": {
  "kernelspec": {
   "display_name": "Python 3 (ipykernel)",
   "language": "python",
   "name": "python3"
  },
  "language_info": {
   "codemirror_mode": {
    "name": "ipython",
    "version": 3
   },
   "file_extension": ".py",
   "mimetype": "text/x-python",
   "name": "python",
   "nbconvert_exporter": "python",
   "pygments_lexer": "ipython3",
   "version": "3.9.12"
  }
 },
 "nbformat": 4,
 "nbformat_minor": 5
}
